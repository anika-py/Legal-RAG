{
 "cells": [
  {
   "cell_type": "code",
   "execution_count": 1,
   "id": "cc2ba488",
   "metadata": {},
   "outputs": [],
   "source": [
    "import json"
   ]
  },
  {
   "cell_type": "code",
   "execution_count": null,
   "id": "0ca2749d",
   "metadata": {},
   "outputs": [],
   "source": [
    "# Check the first few entries of the embedded output\n",
    "with open('embeddings\\embedding_output_part_3.jsonl', \"r\", encoding=\"utf-8\") as f:\n",
    "    for i in range(5):\n",
    "        line = f.readline()\n",
    "        data = json.loads(line)\n",
    "        print(json.dumps(data, indent=2))"
   ]
  },
  {
   "cell_type": "code",
   "execution_count": null,
   "id": "ffbb4990",
   "metadata": {},
   "outputs": [],
   "source": [
    "# Check the last few entries of the embedded output\n",
    "\n",
    "from collections import deque\n",
    "import json\n",
    "\n",
    "file_path = 'embeddings/embedding_output_part_2.jsonl'\n",
    "\n",
    "# Keep only the last 5 lines in memory\n",
    "with open(file_path, \"r\", encoding=\"utf-8\") as f:\n",
    "    last_lines = deque(f, maxlen=5)\n",
    "\n",
    "# Print the last 5 parsed JSON lines\n",
    "for line in last_lines:\n",
    "    data = json.loads(line)\n",
    "    print(json.dumps(data, indent=2))"
   ]
  },
  {
   "cell_type": "code",
   "execution_count": 2,
   "id": "aa86f1cb",
   "metadata": {},
   "outputs": [
    {
     "name": "stdout",
     "output_type": "stream",
     "text": [
      "Original total chunks: 2,150,563\n",
      "Embedded total chunks: 2,150,563\n",
      "All chunks have been successfully embedded!\n"
     ]
    }
   ],
   "source": [
    "# Validate that all original chunks have been embedded\n",
    "\n",
    "original_file = \"judgments_chunks_cleaned_unique.jsonl\"\n",
    "embedded_files = [\n",
    "    \"embeddings\\embedding_output_part_0.jsonl\",\n",
    "    \"embeddings\\embedding_output_part_1.jsonl\",\n",
    "    \"embeddings\\embedding_output_part_2.jsonl\",\n",
    "    \"embeddings\\embedding_output_part_3.jsonl\",\n",
    "]\n",
    "\n",
    "# Load all original chunk_ids\n",
    "original_ids = set()\n",
    "with open(original_file, \"r\", encoding=\"utf-8\") as f:\n",
    "    for line in f:\n",
    "        data = json.loads(line)\n",
    "        original_ids.add(data[\"chunk_id\"])\n",
    "\n",
    "print(f\"Original total chunks: {len(original_ids):,}\")\n",
    "\n",
    "# Load all embedded chunk_ids\n",
    "embedded_ids = set()\n",
    "for file in embedded_files:\n",
    "    with open(file, \"r\", encoding=\"utf-8\") as f:\n",
    "        for line in f:\n",
    "            data = json.loads(line)\n",
    "            embedded_ids.add(data[\"id\"])\n",
    "\n",
    "print(f\"Embedded total chunks: {len(embedded_ids):,}\")\n",
    "\n",
    "# Compare\n",
    "missing_ids = original_ids - embedded_ids\n",
    "\n",
    "if not missing_ids:\n",
    "    print(\"All chunks have been successfully embedded!\")\n",
    "else:\n",
    "    print(f\"⚠️ {len(missing_ids)} chunks are missing:\")\n",
    "    for cid in list(missing_ids)[:10]:\n",
    "        print(f\" - {cid}\")\n"
   ]
  }
 ],
 "metadata": {
  "kernelspec": {
   "display_name": "legal-rag",
   "language": "python",
   "name": "python3"
  },
  "language_info": {
   "codemirror_mode": {
    "name": "ipython",
    "version": 3
   },
   "file_extension": ".py",
   "mimetype": "text/x-python",
   "name": "python",
   "nbconvert_exporter": "python",
   "pygments_lexer": "ipython3",
   "version": "3.11.13"
  }
 },
 "nbformat": 4,
 "nbformat_minor": 5
}
