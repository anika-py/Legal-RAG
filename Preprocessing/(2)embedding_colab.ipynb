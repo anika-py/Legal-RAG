{
  "nbformat": 4,
  "nbformat_minor": 0,
  "metadata": {
    "colab": {
      "provenance": [],
      "gpuType": "T4"
    },
    "kernelspec": {
      "name": "python3",
      "display_name": "Python 3"
    },
    "language_info": {
      "name": "python"
    },
    "accelerator": "GPU"
  },
  "cells": [
    {
      "cell_type": "code",
      "source": [
        "!pip install -q sentence-transformers tqdm"
      ],
      "metadata": {
        "colab": {
          "base_uri": "https://localhost:8080/"
        },
        "id": "jWHlpqGmIcwI",
        "outputId": "9473413c-d9a4-431f-c48b-52b5f6476d44"
      },
      "execution_count": null,
      "outputs": [
        {
          "output_type": "stream",
          "name": "stdout",
          "text": [
            "\u001b[2K   \u001b[90m━━━━━━━━━━━━━━━━━━━━━━━━━━━━━━━━━━━━━━━━\u001b[0m \u001b[32m363.4/363.4 MB\u001b[0m \u001b[31m4.0 MB/s\u001b[0m eta \u001b[36m0:00:00\u001b[0m\n",
            "\u001b[2K   \u001b[90m━━━━━━━━━━━━━━━━━━━━━━━━━━━━━━━━━━━━━━━━\u001b[0m \u001b[32m13.8/13.8 MB\u001b[0m \u001b[31m76.3 MB/s\u001b[0m eta \u001b[36m0:00:00\u001b[0m\n",
            "\u001b[2K   \u001b[90m━━━━━━━━━━━━━━━━━━━━━━━━━━━━━━━━━━━━━━━━\u001b[0m \u001b[32m24.6/24.6 MB\u001b[0m \u001b[31m58.1 MB/s\u001b[0m eta \u001b[36m0:00:00\u001b[0m\n",
            "\u001b[2K   \u001b[90m━━━━━━━━━━━━━━━━━━━━━━━━━━━━━━━━━━━━━━━━\u001b[0m \u001b[32m883.7/883.7 kB\u001b[0m \u001b[31m31.7 MB/s\u001b[0m eta \u001b[36m0:00:00\u001b[0m\n",
            "\u001b[2K   \u001b[90m━━━━━━━━━━━━━━━━━━━━━━━━━━━━━━━━━━━━━━━━\u001b[0m \u001b[32m664.8/664.8 MB\u001b[0m \u001b[31m2.6 MB/s\u001b[0m eta \u001b[36m0:00:00\u001b[0m\n",
            "\u001b[2K   \u001b[90m━━━━━━━━━━━━━━━━━━━━━━━━━━━━━━━━━━━━━━━━\u001b[0m \u001b[32m211.5/211.5 MB\u001b[0m \u001b[31m5.6 MB/s\u001b[0m eta \u001b[36m0:00:00\u001b[0m\n",
            "\u001b[2K   \u001b[90m━━━━━━━━━━━━━━━━━━━━━━━━━━━━━━━━━━━━━━━━\u001b[0m \u001b[32m56.3/56.3 MB\u001b[0m \u001b[31m11.0 MB/s\u001b[0m eta \u001b[36m0:00:00\u001b[0m\n",
            "\u001b[2K   \u001b[90m━━━━━━━━━━━━━━━━━━━━━━━━━━━━━━━━━━━━━━━━\u001b[0m \u001b[32m127.9/127.9 MB\u001b[0m \u001b[31m7.2 MB/s\u001b[0m eta \u001b[36m0:00:00\u001b[0m\n",
            "\u001b[2K   \u001b[90m━━━━━━━━━━━━━━━━━━━━━━━━━━━━━━━━━━━━━━━━\u001b[0m \u001b[32m207.5/207.5 MB\u001b[0m \u001b[31m5.6 MB/s\u001b[0m eta \u001b[36m0:00:00\u001b[0m\n",
            "\u001b[2K   \u001b[90m━━━━━━━━━━━━━━━━━━━━━━━━━━━━━━━━━━━━━━━━\u001b[0m \u001b[32m21.1/21.1 MB\u001b[0m \u001b[31m29.3 MB/s\u001b[0m eta \u001b[36m0:00:00\u001b[0m\n",
            "\u001b[?25h"
          ]
        }
      ]
    },
    {
      "cell_type": "code",
      "execution_count": null,
      "metadata": {
        "colab": {
          "base_uri": "https://localhost:8080/"
        },
        "id": "2Fr3XK_EIB4Z",
        "outputId": "08958d3b-69c8-445a-e309-2597c50dd4ac"
      },
      "outputs": [
        {
          "output_type": "stream",
          "name": "stdout",
          "text": [
            "Mounted at /content/drive\n"
          ]
        }
      ],
      "source": [
        "from sentence_transformers import SentenceTransformer\n",
        "from tqdm.notebook import tqdm\n",
        "import json\n",
        "import os\n",
        "\n",
        "from google.colab import drive\n",
        "drive.mount('/content/drive')\n"
      ]
    },
    {
      "cell_type": "code",
      "source": [
        "import torch\n",
        "print(\"GPU available:\", torch.cuda.is_available())\n",
        "print(\"Using device:\", torch.device(\"cuda\" if torch.cuda.is_available() else \"cpu\"))"
      ],
      "metadata": {
        "colab": {
          "base_uri": "https://localhost:8080/"
        },
        "id": "2vsoi5ZMLNy3",
        "outputId": "b35c519e-093b-4745-f18f-2c84c5b58f08"
      },
      "execution_count": null,
      "outputs": [
        {
          "output_type": "stream",
          "name": "stdout",
          "text": [
            "GPU available: True\n",
            "Using device: cuda\n"
          ]
        }
      ]
    },
    {
      "cell_type": "code",
      "source": [
        "INPUT_JSONL_PATH = \"/content/drive/MyDrive/judgments_chunks_cleaned_unique.jsonl\"\n",
        "OUTPUT_FILE_PREFIX = \"/content/drive/MyDrive/embedding_output_part\"\n",
        "LOG_FILE = \"/content/drive/MyDrive/last_chunk_index.txt\"\n",
        "\n",
        "MAX_OUTPUT_MB = 5000  # ~5GB\n",
        "CHUNK_SAVE_INTERVAL = 500"
      ],
      "metadata": {
        "id": "1w0D108HIolX"
      },
      "execution_count": null,
      "outputs": []
    },
    {
      "cell_type": "code",
      "source": [
        "def read_jsonl_from_offset(filepath, skip_lines=0):\n",
        "    with open(filepath, 'r') as f:\n",
        "        for _ in range(skip_lines):\n",
        "            next(f)\n",
        "        for line in f:\n",
        "            yield json.loads(line)"
      ],
      "metadata": {
        "id": "AWVQGDssKn44"
      },
      "execution_count": null,
      "outputs": []
    },
    {
      "cell_type": "code",
      "source": [
        "def validate_metadata_field(field_value, field_name, allow_empty=False):\n",
        "    if isinstance(field_value, list):\n",
        "        if not field_value:\n",
        "            if allow_empty:\n",
        "                return \"None\"\n",
        "            raise ValueError(f\"Metadata field '{field_name}' is an empty list.\")\n",
        "        return \", \".join(str(v) for v in field_value)\n",
        "\n",
        "    elif isinstance(field_value, (str, int, float, bool)):\n",
        "        if (field_value is None or field_value == \"\") and not allow_empty:\n",
        "            raise ValueError(f\"Metadata field '{field_name}' is empty.\")\n",
        "        return field_value if field_value != \"\" else \"None\" if allow_empty else field_value\n",
        "\n",
        "    else:\n",
        "        raise ValueError(f\"Metadata field '{field_name}' has unsupported type: {type(field_value)}\")"
      ],
      "metadata": {
        "id": "m-ofpt3UKtaX"
      },
      "execution_count": null,
      "outputs": []
    },
    {
      "cell_type": "code",
      "source": [
        "def write_embeddings_to_file(input_path, output_path, start_index=0):\n",
        "    model = SentenceTransformer(\"all-MiniLM-L6-v2\")\n",
        "    current_index = 0\n",
        "    bytes_written = 0\n",
        "    output_file = open(output_path, 'w')\n",
        "\n",
        "    with open(input_path, 'r') as f:\n",
        "        total_chunks = sum(1 for _ in f)\n",
        "\n",
        "    pbar = tqdm(total=total_chunks - start_index, desc=\"Embedding chunks\", unit=\"chunk\")\n",
        "\n",
        "    for doc in read_jsonl_from_offset(input_path, start_index):\n",
        "        try:\n",
        "            embedding = model.encode(doc[\"chunk_text\"]).tolist()\n",
        "\n",
        "            # Metadata validation\n",
        "            metadata = {\n",
        "                \"doc_id\": validate_metadata_field(doc[\"doc_id\"], \"doc_id\"),\n",
        "                \"case_title\": validate_metadata_field(doc[\"case_title\"], \"case_title\"),\n",
        "                \"date_of_judgment\": validate_metadata_field(doc[\"date_of_judgment\"], \"date_of_judgment\"),\n",
        "                \"citation\": validate_metadata_field(doc[\"citation\"], \"citation\", allow_empty=True),\n",
        "                \"bench\": validate_metadata_field(doc[\"bench\"], \"bench\", allow_empty=True),\n",
        "                \"article_references\": validate_metadata_field(doc[\"article_references\"], \"article_references\", allow_empty=True),\n",
        "                \"bench_strength\": validate_metadata_field(doc[\"bench_strength\"], \"bench_strength\"),\n",
        "                \"source_pdf\": validate_metadata_field(doc[\"source_pdf\"], \"source_pdf\"),\n",
        "                \"chunk_index\": validate_metadata_field(doc[\"chunk_index\"], \"chunk_index\"),\n",
        "                \"total_chunks\": validate_metadata_field(doc[\"total_chunks\"], \"total_chunks\"),\n",
        "            }\n",
        "\n",
        "            out_record = {\n",
        "                \"id\": doc[\"chunk_id\"],\n",
        "                \"embedding\": embedding,\n",
        "                \"metadata\": metadata,\n",
        "                \"document\": doc[\"chunk_text\"]\n",
        "            }\n",
        "\n",
        "            json_str = json.dumps(out_record) + \"\\n\"\n",
        "            output_file.write(json_str)\n",
        "            bytes_written += len(json_str.encode(\"utf-8\"))\n",
        "            current_index += 1\n",
        "            pbar.update(1)\n",
        "\n",
        "            if current_index % CHUNK_SAVE_INTERVAL == 0:\n",
        "                with open(LOG_FILE, \"w\") as log:\n",
        "                    log.write(str(start_index + current_index))\n",
        "\n",
        "            # if bytes_written >= max_output_size_mb * 1024 * 1024:\n",
        "            #     break\n",
        "\n",
        "        except Exception as e:\n",
        "            print(f\"Skipping chunk {doc.get('chunk_id', 'UNKNOWN')} due to error: {e}\")\n",
        "            continue\n",
        "\n",
        "    output_file.close()\n",
        "    pbar.close()\n",
        "\n",
        "    with open(LOG_FILE, \"w\") as log:\n",
        "        log.write(str(start_index + current_index))\n",
        "\n",
        "    print(f\"✔️ Saved up to chunk index: {start_index + current_index}\")"
      ],
      "metadata": {
        "id": "Bp1neqnvKx6s"
      },
      "execution_count": null,
      "outputs": []
    },
    {
      "cell_type": "code",
      "source": [
        "if os.path.exists(LOG_FILE):\n",
        "    with open(LOG_FILE, \"r\") as f:\n",
        "        resume_index = int(f.read().strip())\n",
        "else:\n",
        "    resume_index = 0\n",
        "\n",
        "output_file = f\"{OUTPUT_FILE_PREFIX}_{resume_index}.jsonl\"\n",
        "\n",
        "write_embeddings_to_file(\n",
        "    input_path=INPUT_JSONL_PATH,\n",
        "    output_path=output_file,\n",
        "    start_index=resume_index\n",
        ")"
      ],
      "metadata": {
        "colab": {
          "base_uri": "https://localhost:8080/",
          "height": 542,
          "referenced_widgets": [
            "8188bfc5da8b4209a7c3652db64cdb10",
            "d3479f725ce34ee19e99bac0939ff699",
            "64c38a83d4304dfba05d6f0971ba1091",
            "d496ee085cd74d54bcc69915442579b5",
            "936e73cfd3ad45b996b8cd90e298fb91",
            "d4873ce893c34dd3bdf9b70c7f644f82",
            "fb1e5b31628240129c2571d828617366",
            "93b6dc77961b4a89afab6f17d9ca6fde",
            "29da771bb64b47bb866f811479197ffe",
            "7fad88597ba34d17b6cbf27bc996b049",
            "2b019c9cd114416fb18417ca75d36590",
            "263a596791dd470d9e1418794183e17f",
            "5212baee99f7443da75bd7cda683a190",
            "1941234a3c054f05af7f43f60f10e24f",
            "3a32b91f7b2c4602831bb8f5e19ea16e",
            "797e0dabba424bd39b9041430ceb15f9",
            "1d9d04e0e9e64b8dbf250c66d9243685",
            "940a11bae8d943f18365cceb86908028",
            "813fb77e61c6477e8d4aaf0951a81251",
            "a481a3dda54042fc88cc59303f6dbb01",
            "1988c759f6e840fc9c233e32ceefd2fe",
            "7736abd7d59c486eaf64ea59e4d7c910",
            "2fa1a205068948a292fd9d5e087258b2",
            "c24c364a985848278f4250b60a679b44",
            "d06995f8b8194430a2cd778f0ef6f4b6",
            "a30de8d6f9e9437b97fc2d221a5678de",
            "f966dd78b1334fbc8679d3c07ae33525",
            "f2b2208ad95645579019481aa7ac4775",
            "3cab0dfd1bb44f34bcb068820d5ddd41",
            "250571ba70e646bf9c77ee5f588f3d03",
            "53a5a2c419d9495988cca7b6263bca3d",
            "391472465b864f71b386ed66f7837bf1",
            "1ffeb1dd356b4bf5832d195b70efd3d0",
            "3710304dffc244f69d8313726b7f57d9",
            "13d9bf62aaa34e5a9428fc0eb94c0a07",
            "a176c7c1a44c46c2a11a9deb35652224",
            "ae408034104f4dc0986897de0bf1013f",
            "557a33f311294354893c560912c01295",
            "e2521fcd61644f36b77dc6aea1f725ff",
            "354915739d1a405198da7da501dcbff6",
            "175140ee0dc14491993dbf6e2848c2db",
            "12695d823748409c935599e9cfc3d3d1",
            "009d37373ff64994967ac79f9548ed83",
            "01738c4ba4744cf3bcf1894fec56785b",
            "4d9e905278f24b55acf422666b80d336",
            "86a1df6ae3574bafa963b76f951cbe1b",
            "8706048aa340416cbf8d9bc32b64b6b4",
            "4b7dc8886dad4dedabd8410463677921",
            "613bdaf19aa74ce9a20f8dae9fd5306a",
            "6ada8596967840bdb6015f82c2a60f25",
            "869b0081dc68470488c298f9e449d76c",
            "534f6cd159334cacb7549fe7443a5440",
            "fcc8efb4ef19429090781c05cc78d222",
            "d2e29319e6e24b829cacc9c7b6c25f8a",
            "c30f0ded5f6e4d19ae28ab2425c4aeb5",
            "863073d3135f4d41bc406a9fc87df808",
            "b80159412ee04bc08decaaa969c53486",
            "f91402d961d144b48b8e2e2ea542396e",
            "89238bf3de504627b4df5838f5a32879",
            "2fc22c3352264fa88efb3e5607f53339",
            "b7d134e96f0b4c89a0a92e0659803249",
            "9ee53d10462449c685305f6d430c3a4c",
            "83d0c5a967b0420b8d4230b724c796e2",
            "2b19baa9dc414a0daa0975b1953abd91",
            "89cebcb835a44269b275ebf06e94a748",
            "fe2a74efffcc4439bff760ecbd81addd",
            "73c4ac91620a4a469f696db2cba005fd",
            "c31a2e60f05d4e298d4548f652554a2e",
            "3b4d20c00c6747b39dfc363e12ce88b1",
            "bf3e5aef86ef4dd4a4513743206762f4",
            "d0038a13907f4ded9e793b5235002643",
            "cff9afb60b2440e98599d81c6ee73cf6",
            "bfc734a8b06b4932ad3c9d3f1880585c",
            "455d9dd4b7184beeae11d33a36c54c5e",
            "3f30e95d96184e2588cf46ac378e5b54",
            "3ed0afd99ae6481aae626b36eb974c78",
            "4194e67f10a5425d82e883b804e20d0a",
            "2417fc889d144503bbb1aa3d5ba755a8",
            "4b5e0335c208485599a590444b57a229",
            "8ef985945e63492e9c2d6938a7434a76",
            "e404a9cf10c04f49a8e35b2fb7f8bb85",
            "7ede012da58a4ba0bfecccf387c619f6",
            "02ec7af73a6f409580545a76e7e347ba",
            "aba5024401de4863bfa84806fbcaea17",
            "a6ffd3d337d2411db5463f961709cd3d",
            "811aa3774b8f4ba5bcc1600351ecf34f",
            "c82420a45778493a992f5f8efc2eba5b",
            "53c829465f5344108ab9c3826fdf0288",
            "6ebc9507050b481f976f596550c1618c",
            "89992c3be7864b9ba25f50ff413724ef",
            "8de6435878a24f388396d2a5f34e1ccb",
            "9784a03ecce64eb39a9cd414c3aeb36e",
            "9420b5497edc4f1a9c6978f93dc8d94d",
            "8b007c734da14cd4a8245be26168dfa6",
            "19bd750e89094299bca54fe05ba889a4",
            "557fb225a91c44e68891014dc2c70aec",
            "953e7bce2a4843978235cd61f8b19704",
            "ef8a582fa2ee4b4783efb51994997442",
            "2d084db851e844bd80b4a7b0c0d84134",
            "9301c25fc9bd49d0aaa393974da6d727",
            "ee6adc168afb4b91b3d46bc3b76b5f6d",
            "bb99c230be304ff3ae9b82a91daf417c",
            "3a6a57bcd416408babf504386fe5d1b9",
            "6d0d8bb703ff4918875a5d0950cd21d6",
            "61dacf148ffc4380b9daeeae36b7e5d0",
            "d6634aca707d4ba7888b4757c4fc8d56",
            "fa9b3066ae3548ba8d0a0931fdda8e73",
            "820e64c527b64f0f9526b52ea105d80e",
            "6a35edc6922d444495103cac071dcf53",
            "765bc9b79a3947cf98d22501f085a4f0",
            "3b77f43eecb840c895ca38e92ad3780d",
            "1d8701d619264a18a9a020214cae86c0",
            "6106dceb294249e7a9eeb2eaaa2584f5",
            "9996ae254699413a95ac2f2eeb7d1e91",
            "c72af42df2024fa580862424c914f1bb",
            "ef4130b3db8c4134aabacff1b979f972",
            "fa4eec9cbbd347659ec2aa8e974c92e2",
            "29c904c8099744e4a4c61851c83c8994",
            "fc698e448ee2460d8172089a52bd98d3",
            "9a72d06c3e1940c688fb4ddd8e106381",
            "fd46fc8efb834df5a98b83e5bb1c7b54",
            "99c9c20651044a99a27a2f6e6c647e30",
            "d177b603a27148a485309202c6ee7866",
            "88ae4117de5a44e3ae4d2eecdfa181e9",
            "eaee683ac257458dababbe5141d19151",
            "8e7bf9ef86a247cca3fdcc47d77adbba",
            "f271aac425754269accb6c3f35e3619b",
            "0152514e437f432596415d775e2de299",
            "53127cf77bba45fe862aa823fc49bf89",
            "fef9ba971c7948ef84e973304768e908",
            "cd910777e0014e8dada9372cb6eda9a2",
            "8c10ede83c5a40f093da652c94c471e2"
          ]
        },
        "id": "CNOINDw6K5Dr",
        "outputId": "a17019c1-3467-42d1-9a09-714f6bd2dec2"
      },
      "execution_count": null,
      "outputs": [
        {
          "output_type": "stream",
          "name": "stderr",
          "text": [
            "/usr/local/lib/python3.11/dist-packages/huggingface_hub/utils/_auth.py:94: UserWarning: \n",
            "The secret `HF_TOKEN` does not exist in your Colab secrets.\n",
            "To authenticate with the Hugging Face Hub, create a token in your settings tab (https://huggingface.co/settings/tokens), set it as secret in your Google Colab and restart your session.\n",
            "You will be able to reuse this secret in all of your notebooks.\n",
            "Please note that authentication is recommended but still optional to access public models or datasets.\n",
            "  warnings.warn(\n"
          ]
        },
        {
          "output_type": "display_data",
          "data": {
            "text/plain": [
              "modules.json:   0%|          | 0.00/349 [00:00<?, ?B/s]"
            ],
            "application/vnd.jupyter.widget-view+json": {
              "version_major": 2,
              "version_minor": 0,
              "model_id": "8188bfc5da8b4209a7c3652db64cdb10"
            }
          },
          "metadata": {}
        },
        {
          "output_type": "display_data",
          "data": {
            "text/plain": [
              "config_sentence_transformers.json:   0%|          | 0.00/116 [00:00<?, ?B/s]"
            ],
            "application/vnd.jupyter.widget-view+json": {
              "version_major": 2,
              "version_minor": 0,
              "model_id": "263a596791dd470d9e1418794183e17f"
            }
          },
          "metadata": {}
        },
        {
          "output_type": "display_data",
          "data": {
            "text/plain": [
              "README.md: 0.00B [00:00, ?B/s]"
            ],
            "application/vnd.jupyter.widget-view+json": {
              "version_major": 2,
              "version_minor": 0,
              "model_id": "2fa1a205068948a292fd9d5e087258b2"
            }
          },
          "metadata": {}
        },
        {
          "output_type": "display_data",
          "data": {
            "text/plain": [
              "sentence_bert_config.json:   0%|          | 0.00/53.0 [00:00<?, ?B/s]"
            ],
            "application/vnd.jupyter.widget-view+json": {
              "version_major": 2,
              "version_minor": 0,
              "model_id": "3710304dffc244f69d8313726b7f57d9"
            }
          },
          "metadata": {}
        },
        {
          "output_type": "display_data",
          "data": {
            "text/plain": [
              "config.json:   0%|          | 0.00/612 [00:00<?, ?B/s]"
            ],
            "application/vnd.jupyter.widget-view+json": {
              "version_major": 2,
              "version_minor": 0,
              "model_id": "4d9e905278f24b55acf422666b80d336"
            }
          },
          "metadata": {}
        },
        {
          "output_type": "display_data",
          "data": {
            "text/plain": [
              "model.safetensors:   0%|          | 0.00/90.9M [00:00<?, ?B/s]"
            ],
            "application/vnd.jupyter.widget-view+json": {
              "version_major": 2,
              "version_minor": 0,
              "model_id": "863073d3135f4d41bc406a9fc87df808"
            }
          },
          "metadata": {}
        },
        {
          "output_type": "display_data",
          "data": {
            "text/plain": [
              "tokenizer_config.json:   0%|          | 0.00/350 [00:00<?, ?B/s]"
            ],
            "application/vnd.jupyter.widget-view+json": {
              "version_major": 2,
              "version_minor": 0,
              "model_id": "73c4ac91620a4a469f696db2cba005fd"
            }
          },
          "metadata": {}
        },
        {
          "output_type": "display_data",
          "data": {
            "text/plain": [
              "vocab.txt: 0.00B [00:00, ?B/s]"
            ],
            "application/vnd.jupyter.widget-view+json": {
              "version_major": 2,
              "version_minor": 0,
              "model_id": "2417fc889d144503bbb1aa3d5ba755a8"
            }
          },
          "metadata": {}
        },
        {
          "output_type": "display_data",
          "data": {
            "text/plain": [
              "tokenizer.json: 0.00B [00:00, ?B/s]"
            ],
            "application/vnd.jupyter.widget-view+json": {
              "version_major": 2,
              "version_minor": 0,
              "model_id": "6ebc9507050b481f976f596550c1618c"
            }
          },
          "metadata": {}
        },
        {
          "output_type": "display_data",
          "data": {
            "text/plain": [
              "special_tokens_map.json:   0%|          | 0.00/112 [00:00<?, ?B/s]"
            ],
            "application/vnd.jupyter.widget-view+json": {
              "version_major": 2,
              "version_minor": 0,
              "model_id": "9301c25fc9bd49d0aaa393974da6d727"
            }
          },
          "metadata": {}
        },
        {
          "output_type": "display_data",
          "data": {
            "text/plain": [
              "config.json:   0%|          | 0.00/190 [00:00<?, ?B/s]"
            ],
            "application/vnd.jupyter.widget-view+json": {
              "version_major": 2,
              "version_minor": 0,
              "model_id": "3b77f43eecb840c895ca38e92ad3780d"
            }
          },
          "metadata": {}
        },
        {
          "output_type": "display_data",
          "data": {
            "text/plain": [
              "Embedding chunks:   0%|          | 0/680253 [00:00<?, ?chunk/s]"
            ],
            "application/vnd.jupyter.widget-view+json": {
              "version_major": 2,
              "version_minor": 0,
              "model_id": "99c9c20651044a99a27a2f6e6c647e30"
            }
          },
          "metadata": {}
        },
        {
          "output_type": "stream",
          "name": "stdout",
          "text": [
            "✔️ Saved up to chunk index: 2150563\n"
          ]
        }
      ]
    }
  ]
}